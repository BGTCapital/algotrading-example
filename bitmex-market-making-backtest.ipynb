{
 "cells": [
  {
   "cell_type": "markdown",
   "metadata": {},
   "source": [
    "## References\n",
    "\n",
    "Quote Mid Price = Spot Price + Basis + Skew  \n",
    "https://blog.bitmex.com/how-to-market-make-bitcoin-derivatives-lesson-2/  \n",
    "https://www.bitmex.com/app/fairPriceMarking  \n",
    "https://www.bitmex.com/app/perpetualContractsGuide  \n",
    "https://github.com/BitMEX/sample-market-maker  \n",
    "\n",
    "BuyPrice = Mid-Market + A x Forecast – B x MCR – Current half-spread  \n",
    "SellPrice = Mid-Market + A x Forecast – B x MCR + Current half-spread  \n",
    "**https://ieor.columbia.edu/files/seasdepts/industrial-engineering-operations-research/pdf-files/Borden_D_FESeminar_Sp10.pdf ****  \n",
    "\n",
    "https://www.reddit.com/r/algotrading/comments/6q8dp6/market_making_theory_and_application_readings/\n",
    "\n",
    "## Implementation\n",
    "https://github.com/nkaz001/sample-market-maker"
   ]
  },
  {
   "cell_type": "code",
   "execution_count": 1,
   "metadata": {},
   "outputs": [],
   "source": [
    "import pandas as pd\n",
    "import numpy as np\n",
    "import scipy.stats as stats\n",
    "from sklearn.model_selection import GridSearchCV, RandomizedSearchCV\n",
    "from numba import njit"
   ]
  },
  {
   "cell_type": "code",
   "execution_count": 2,
   "metadata": {},
   "outputs": [],
   "source": [
    "last_price = pd.read_csv(\"last_price.csv\", index_col='timestamp', converters={'timestamp': pd.to_datetime})\n",
    "ohlc = last_price.resample('5s', label='right').ohlc().ffill()"
   ]
  },
  {
   "cell_type": "code",
   "execution_count": 3,
   "metadata": {},
   "outputs": [],
   "source": [
    "fair_basis = pd.read_csv(\"fair_basis.csv\", index_col='timestamp', converters={'timestamp': pd.to_datetime})\n",
    "fair_basis_ = fair_basis.resample('5s', label='right').ffill()"
   ]
  },
  {
   "cell_type": "code",
   "execution_count": 4,
   "metadata": {},
   "outputs": [
    {
     "name": "stderr",
     "output_type": "stream",
     "text": [
      "/home/kaz/anaconda3/lib/python3.8/site-packages/pandas/core/reshape/merge.py:643: UserWarning: merging between different levels can give an unintended result (2 levels on the left,1 on the right)\n",
      "  warnings.warn(msg, UserWarning)\n"
     ]
    }
   ],
   "source": [
    "df = ohlc.merge(fair_basis_, left_on='timestamp', right_on='timestamp', how='outer')\n",
    "df[\"fairBasis\"] = df[\"fairBasis\"].ffill()\n",
    "df.columns = ['open', 'high', 'low', 'close', 'fairBasis']"
   ]
  },
  {
   "cell_type": "code",
   "execution_count": 5,
   "metadata": {},
   "outputs": [
    {
     "data": {
      "text/html": [
       "<div>\n",
       "<style scoped>\n",
       "    .dataframe tbody tr th:only-of-type {\n",
       "        vertical-align: middle;\n",
       "    }\n",
       "\n",
       "    .dataframe tbody tr th {\n",
       "        vertical-align: top;\n",
       "    }\n",
       "\n",
       "    .dataframe thead th {\n",
       "        text-align: right;\n",
       "    }\n",
       "</style>\n",
       "<table border=\"1\" class=\"dataframe\">\n",
       "  <thead>\n",
       "    <tr style=\"text-align: right;\">\n",
       "      <th></th>\n",
       "      <th>open</th>\n",
       "      <th>high</th>\n",
       "      <th>low</th>\n",
       "      <th>close</th>\n",
       "      <th>fairBasis</th>\n",
       "    </tr>\n",
       "    <tr>\n",
       "      <th>timestamp</th>\n",
       "      <th></th>\n",
       "      <th></th>\n",
       "      <th></th>\n",
       "      <th></th>\n",
       "      <th></th>\n",
       "    </tr>\n",
       "  </thead>\n",
       "  <tbody>\n",
       "    <tr>\n",
       "      <th>2020-12-07 00:00:05+00:00</th>\n",
       "      <td>19393.5</td>\n",
       "      <td>19401.0</td>\n",
       "      <td>19393.5</td>\n",
       "      <td>19401.0</td>\n",
       "      <td>NaN</td>\n",
       "    </tr>\n",
       "    <tr>\n",
       "      <th>2020-12-07 00:00:10+00:00</th>\n",
       "      <td>19400.5</td>\n",
       "      <td>19409.0</td>\n",
       "      <td>19400.5</td>\n",
       "      <td>19408.5</td>\n",
       "      <td>NaN</td>\n",
       "    </tr>\n",
       "    <tr>\n",
       "      <th>2020-12-07 00:00:15+00:00</th>\n",
       "      <td>19409.0</td>\n",
       "      <td>19412.0</td>\n",
       "      <td>19408.5</td>\n",
       "      <td>19411.5</td>\n",
       "      <td>NaN</td>\n",
       "    </tr>\n",
       "    <tr>\n",
       "      <th>2020-12-07 00:00:20+00:00</th>\n",
       "      <td>19412.0</td>\n",
       "      <td>19424.5</td>\n",
       "      <td>19411.5</td>\n",
       "      <td>19424.5</td>\n",
       "      <td>NaN</td>\n",
       "    </tr>\n",
       "    <tr>\n",
       "      <th>2020-12-07 00:00:25+00:00</th>\n",
       "      <td>19424.0</td>\n",
       "      <td>19432.0</td>\n",
       "      <td>19424.0</td>\n",
       "      <td>19431.5</td>\n",
       "      <td>NaN</td>\n",
       "    </tr>\n",
       "    <tr>\n",
       "      <th>...</th>\n",
       "      <td>...</td>\n",
       "      <td>...</td>\n",
       "      <td>...</td>\n",
       "      <td>...</td>\n",
       "      <td>...</td>\n",
       "    </tr>\n",
       "    <tr>\n",
       "      <th>2020-12-27 23:59:40+00:00</th>\n",
       "      <td>26230.0</td>\n",
       "      <td>26240.5</td>\n",
       "      <td>26230.0</td>\n",
       "      <td>26240.0</td>\n",
       "      <td>12.26</td>\n",
       "    </tr>\n",
       "    <tr>\n",
       "      <th>2020-12-27 23:59:45+00:00</th>\n",
       "      <td>26240.5</td>\n",
       "      <td>26248.5</td>\n",
       "      <td>26240.5</td>\n",
       "      <td>26248.5</td>\n",
       "      <td>12.26</td>\n",
       "    </tr>\n",
       "    <tr>\n",
       "      <th>2020-12-27 23:59:50+00:00</th>\n",
       "      <td>26248.0</td>\n",
       "      <td>26248.0</td>\n",
       "      <td>26248.0</td>\n",
       "      <td>26248.0</td>\n",
       "      <td>12.26</td>\n",
       "    </tr>\n",
       "    <tr>\n",
       "      <th>2020-12-27 23:59:55+00:00</th>\n",
       "      <td>26248.5</td>\n",
       "      <td>26253.0</td>\n",
       "      <td>26248.0</td>\n",
       "      <td>26248.5</td>\n",
       "      <td>12.26</td>\n",
       "    </tr>\n",
       "    <tr>\n",
       "      <th>2020-12-28 00:00:00+00:00</th>\n",
       "      <td>26248.0</td>\n",
       "      <td>26254.0</td>\n",
       "      <td>26248.0</td>\n",
       "      <td>26254.0</td>\n",
       "      <td>12.26</td>\n",
       "    </tr>\n",
       "  </tbody>\n",
       "</table>\n",
       "<p>362880 rows × 5 columns</p>\n",
       "</div>"
      ],
      "text/plain": [
       "                              open     high      low    close  fairBasis\n",
       "timestamp                                                               \n",
       "2020-12-07 00:00:05+00:00  19393.5  19401.0  19393.5  19401.0        NaN\n",
       "2020-12-07 00:00:10+00:00  19400.5  19409.0  19400.5  19408.5        NaN\n",
       "2020-12-07 00:00:15+00:00  19409.0  19412.0  19408.5  19411.5        NaN\n",
       "2020-12-07 00:00:20+00:00  19412.0  19424.5  19411.5  19424.5        NaN\n",
       "2020-12-07 00:00:25+00:00  19424.0  19432.0  19424.0  19431.5        NaN\n",
       "...                            ...      ...      ...      ...        ...\n",
       "2020-12-27 23:59:40+00:00  26230.0  26240.5  26230.0  26240.0      12.26\n",
       "2020-12-27 23:59:45+00:00  26240.5  26248.5  26240.5  26248.5      12.26\n",
       "2020-12-27 23:59:50+00:00  26248.0  26248.0  26248.0  26248.0      12.26\n",
       "2020-12-27 23:59:55+00:00  26248.5  26253.0  26248.0  26248.5      12.26\n",
       "2020-12-28 00:00:00+00:00  26248.0  26254.0  26248.0  26254.0      12.26\n",
       "\n",
       "[362880 rows x 5 columns]"
      ]
     },
     "execution_count": 5,
     "metadata": {},
     "output_type": "execute_result"
    }
   ],
   "source": [
    "df"
   ]
  },
  {
   "cell_type": "code",
   "execution_count": 6,
   "metadata": {},
   "outputs": [],
   "source": [
    "@njit\n",
    "def predict_njit(start_equity, A, B, half_spread, max_position, X):\n",
    "    tick_size = 0.5\n",
    "    running_qty = 0\n",
    "    static_equity = start_equity\n",
    "    fee = 0\n",
    "    equity = []\n",
    "    order_qty = 100\n",
    "    new_bid = np.nan\n",
    "    new_ask = np.nan\n",
    "    high = 1\n",
    "    low = 2\n",
    "    close = 3\n",
    "    fair_basis = 4\n",
    "    for row in X:\n",
    "        if new_bid > row[low]:\n",
    "            running_qty += order_qty\n",
    "            static_equity += order_qty / new_bid\n",
    "            fee += order_qty / new_bid * -0.00025    \n",
    "        if new_ask < row[high]:\n",
    "            running_qty -= order_qty\n",
    "            static_equity -= order_qty / new_ask\n",
    "            fee += order_qty / new_ask * -0.00025    \n",
    "        equity.append(static_equity - running_qty / row[close] - fee)\n",
    "        skew = B * running_qty / max_position * -1\n",
    "        quote_mid_price = row[close] + A * row[fair_basis] + skew\n",
    "        new_bid = np.minimum(np.round(quote_mid_price * (1 - half_spread) / tick_size) * tick_size, row[close] - tick_size)\n",
    "        new_ask = np.maximum(np.round(quote_mid_price * (1 + half_spread) / tick_size) * tick_size, row[close] + tick_size)\n",
    "        if running_qty > max_position:\n",
    "            new_bid = np.nan\n",
    "        if running_qty < -max_position:\n",
    "            new_ask = np.nan\n",
    "    return equity\n",
    "\n",
    "class Backtest:\n",
    "    def __init__(self, equity=None, max_position=None, A=None, B=None, half_spread=None):\n",
    "        self.equity = equity\n",
    "        self.max_position = max_position\n",
    "        self.A = A\n",
    "        self.B = B\n",
    "        self.half_spread = half_spread\n",
    "        \n",
    "    def set_params(self, A, B, half_spread):\n",
    "        self.A = A\n",
    "        self.B = B\n",
    "        self.half_spread = half_spread\n",
    "        return self\n",
    "        \n",
    "    def get_params(self, deep=True):\n",
    "        return { 'equity': self.equity, 'max_position': self.max_position, 'A': self.A, 'B': self.B, 'half_spread': self.half_spread }\n",
    "        \n",
    "    def fit(self, X, y=None):\n",
    "        return self\n",
    "    \n",
    "    def predict(self, X):\n",
    "#         #orders = []\n",
    "#         tick_size = 0.5\n",
    "#         running_qty = 0\n",
    "#         static_equity = self.equity\n",
    "#         fee = 0\n",
    "#         equity = []\n",
    "#         order_qty = 100\n",
    "#         new_bid = np.nan\n",
    "#         new_ask = np.nan\n",
    "#         for _, row in X.iterrows():\n",
    "#             #for price, qty in orders:\n",
    "#             #    if qty > 0 and price >= row['low']:\n",
    "#             #        running_qty += qty\n",
    "#             #        static_equity -= qty / price\n",
    "#             #        fee += qty / price * -0.00025    \n",
    "#             #    if qty < 0 and price <= row['high']:\n",
    "#             #        running_qty -= qty\n",
    "#             #        static_equity += qty / price\n",
    "#             #        fee += qty / price * -0.00025    \n",
    "#             if new_bid > row['low']:\n",
    "#                 running_qty += order_qty\n",
    "#                 static_equity += order_qty / new_bid\n",
    "#                 fee += order_qty / new_bid * -0.00025    \n",
    "#             if new_ask < row['high']:\n",
    "#                 running_qty -= order_qty\n",
    "#                 static_equity -= order_qty / new_ask\n",
    "#                 fee += order_qty / new_ask * -0.00025    \n",
    "#             equity.append(static_equity - running_qty / row['close'] - fee)\n",
    "#             skew = self.B * running_qty / self.max_position * -1\n",
    "#             quote_mid_price = row['close'] + self.A * row['fairBasis'] + skew\n",
    "#             new_bid = np.minimum(np.round(quote_mid_price * (1 - self.half_spread) / tick_size) * tick_size, row['close'] - tick_size)\n",
    "#             new_ask = np.maximum(np.round(quote_mid_price * (1 + self.half_spread) / tick_size) * tick_size, row['close'] + tick_size)\n",
    "#             #if running_qty < self.max_position:\n",
    "#             #    orders.append((new_bid, 100))\n",
    "#             #if running_qty > -self.max_position:\n",
    "#             #    orders.append((new_ask, -100))\n",
    "#             if running_qty > self.max_position:\n",
    "#                 new_bid = np.nan\n",
    "#             if running_qty < -self.max_position:\n",
    "#                 new_ask = np.nan\n",
    "        equity = predict_njit(self.equity, self.A, self.B, self.half_spread, self.max_position, X)\n",
    "        return equity\n",
    "    \n",
    "    def score(self, X):\n",
    "        returns = pd.Series(self.predict(X)).pct_change().fillna(0)\n",
    "        return np.divide(returns.mean(), returns.std())"
   ]
  },
  {
   "cell_type": "code",
   "execution_count": 7,
   "metadata": {},
   "outputs": [],
   "source": [
    "train = df[df.index < '2020-12-20']\n",
    "test = df[df.index >= '2020-12-20']"
   ]
  },
  {
   "cell_type": "code",
   "execution_count": null,
   "metadata": {},
   "outputs": [
    {
     "name": "stdout",
     "output_type": "stream",
     "text": [
      "Fitting 1 folds for each of 1000 candidates, totalling 1000 fits\n"
     ]
    },
    {
     "name": "stderr",
     "output_type": "stream",
     "text": [
      "[Parallel(n_jobs=10)]: Using backend LokyBackend with 10 concurrent workers.\n",
      "[Parallel(n_jobs=10)]: Done  30 tasks      | elapsed:    5.5s\n",
      "[Parallel(n_jobs=10)]: Done 180 tasks      | elapsed:    9.5s\n",
      "[Parallel(n_jobs=10)]: Done 430 tasks      | elapsed:   15.4s\n"
     ]
    }
   ],
   "source": [
    "#parameters = { 'A': np.linspace(0.01, 1, 100), 'B': np.linspace(0.01, 1, 100), 'half_spread': np.linspace(0.001, 0.01, 10) }\n",
    "#search = GridSearchCV(Backtest(10000, 10000), parameters)\n",
    "#search.fit(df)\n",
    "\n",
    "param_dist = { 'A': stats.uniform(0, 1), 'B': stats.uniform(0, 1), 'half_spread': stats.uniform(0, 0.01) }\n",
    "search = RandomizedSearchCV(Backtest(1, 10000),\n",
    "                            cv=[(np.arange(len(train)), np.arange(len(train)))],\n",
    "                            param_distributions=param_dist,\n",
    "                            verbose=1,\n",
    "                            n_iter=1000,\n",
    "                            n_jobs=10)\n",
    "search.fit(train.values)"
   ]
  },
  {
   "cell_type": "code",
   "execution_count": null,
   "metadata": {},
   "outputs": [],
   "source": [
    "search.best_params_"
   ]
  },
  {
   "cell_type": "code",
   "execution_count": null,
   "metadata": {},
   "outputs": [],
   "source": [
    "search.best_estimator_.score(train.values)"
   ]
  },
  {
   "cell_type": "code",
   "execution_count": null,
   "metadata": {},
   "outputs": [],
   "source": [
    "equity = pd.Series(search.best_estimator_.predict(train.values), index=train.index)"
   ]
  },
  {
   "cell_type": "code",
   "execution_count": null,
   "metadata": {},
   "outputs": [],
   "source": [
    "equity.plot()"
   ]
  },
  {
   "cell_type": "code",
   "execution_count": null,
   "metadata": {},
   "outputs": [],
   "source": [
    "equity = pd.Series(search.best_estimator_.predict(test.values), index=test.index)"
   ]
  },
  {
   "cell_type": "code",
   "execution_count": null,
   "metadata": {},
   "outputs": [],
   "source": [
    "equity.plot()"
   ]
  },
  {
   "cell_type": "code",
   "execution_count": null,
   "metadata": {},
   "outputs": [],
   "source": [
    "train[\"close\"].plot()"
   ]
  },
  {
   "cell_type": "code",
   "execution_count": null,
   "metadata": {},
   "outputs": [],
   "source": [
    "test[\"close\"].plot()"
   ]
  },
  {
   "cell_type": "code",
   "execution_count": null,
   "metadata": {},
   "outputs": [],
   "source": []
  }
 ],
 "metadata": {
  "kernelspec": {
   "display_name": "Python 3",
   "language": "python",
   "name": "python3"
  },
  "language_info": {
   "codemirror_mode": {
    "name": "ipython",
    "version": 3
   },
   "file_extension": ".py",
   "mimetype": "text/x-python",
   "name": "python",
   "nbconvert_exporter": "python",
   "pygments_lexer": "ipython3",
   "version": "3.8.5"
  }
 },
 "nbformat": 4,
 "nbformat_minor": 4
}
